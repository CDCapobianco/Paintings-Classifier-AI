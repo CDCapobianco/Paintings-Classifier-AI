{
  "cells": [
    {
      "cell_type": "markdown",
      "source": [
        "# **Import Kaggle Dataset**"
      ],
      "metadata": {
        "id": "5yg4YxQB_gt0"
      }
    },
    {
      "cell_type": "code",
      "source": [
        "from google.colab import drive\n",
        "\n",
        "drive.mount('/content/gdrive')"
      ],
      "metadata": {
        "colab": {
          "base_uri": "https://localhost:8080/"
        },
        "id": "Oq_6V1oRBMKB",
        "outputId": "5900e09e-03b4-44e5-fbad-a589c10b6e17"
      },
      "execution_count": 2,
      "outputs": [
        {
          "output_type": "stream",
          "name": "stdout",
          "text": [
            "Mounted at /content/gdrive\n"
          ]
        }
      ]
    },
    {
      "cell_type": "code",
      "source": [
        "!rm -r ~/.kaggle\n",
        "! mkdir ~/.kaggle\n",
        "!cp /content/gdrive/MyDrive/kaggle.json ~/.kaggle/kaggle.json\n",
        "!chmod 600 ~/.kaggle/kaggle.json"
      ],
      "metadata": {
        "id": "I-fg9Ooi_kEI",
        "colab": {
          "base_uri": "https://localhost:8080/"
        },
        "outputId": "5d4068d3-63f7-4e44-9baa-6fb3a6f1e418"
      },
      "execution_count": 3,
      "outputs": [
        {
          "output_type": "stream",
          "name": "stdout",
          "text": [
            "rm: cannot remove '/root/.kaggle': No such file or directory\n"
          ]
        }
      ]
    },
    {
      "cell_type": "code",
      "source": [
        "! kaggle datasets download thedownhill/art-images-drawings-painting-sculpture-engraving"
      ],
      "metadata": {
        "colab": {
          "base_uri": "https://localhost:8080/"
        },
        "id": "rRCdsKhcAOJ1",
        "outputId": "2b2ce8b2-bff6-4b00-de0c-f7b2f42221a6"
      },
      "execution_count": 4,
      "outputs": [
        {
          "output_type": "stream",
          "name": "stdout",
          "text": [
            "Downloading art-images-drawings-painting-sculpture-engraving.zip to /content\n",
            " 99% 577M/583M [00:07<00:00, 103MB/s] \n",
            "100% 583M/583M [00:07<00:00, 85.3MB/s]\n"
          ]
        }
      ]
    },
    {
      "cell_type": "code",
      "source": [
        "import zipfile\n",
        "with zipfile.ZipFile(\"/content/art-images-drawings-painting-sculpture-engraving.zip\",\"r\") as zip_ref:\n",
        "  zip_ref.extractall(\"/content\")\n"
      ],
      "metadata": {
        "id": "ug3oLXMjCsCX"
      },
      "execution_count": 5,
      "outputs": []
    },
    {
      "cell_type": "code",
      "source": [
        "!cp -r /content/musemart/dataset_updated/training_set /content/dataset/dataset_updated\n",
        "!cp -r /content/musemart/dataset_updated/validation_set /content/dataset/dataset_updated\n",
        "!rm -r /content/musemart"
      ],
      "metadata": {
        "id": "3VH_0EaNU-6P"
      },
      "execution_count": 6,
      "outputs": []
    },
    {
      "cell_type": "code",
      "source": [
        "!cp -r /content/dataset/dataset_updated/training_set/drawings /content/dataset/dataset_updated\n",
        "!cp -r /content/dataset/dataset_updated/training_set/engraving /content/dataset/dataset_updated\n",
        "!cp -r /content/dataset/dataset_updated/training_set/iconography /content/dataset/dataset_updated\n",
        "!cp -r /content/dataset/dataset_updated/training_set/painting /content/dataset/dataset_updated\n",
        "!cp -r /content/dataset/dataset_updated/training_set/sculpture /content/dataset/dataset_updated"
      ],
      "metadata": {
        "id": "qG9PClSHb8UJ"
      },
      "execution_count": 7,
      "outputs": []
    },
    {
      "cell_type": "code",
      "source": [
        "!cp -r /content/dataset/dataset_updated/validation_set/drawings /content/dataset/dataset_updated\n",
        "!cp -r /content/dataset/dataset_updated/validation_set/engraving /content/dataset/dataset_updated\n",
        "!cp -r /content/dataset/dataset_updated/validation_set/iconography /content/dataset/dataset_updated\n",
        "!cp -r /content/dataset/dataset_updated/validation_set/painting /content/dataset/dataset_updated\n",
        "!cp -r /content/dataset/dataset_updated/validation_set/sculpture /content/dataset/dataset_updated"
      ],
      "metadata": {
        "id": "pphrYQ2scVdV"
      },
      "execution_count": 8,
      "outputs": []
    },
    {
      "cell_type": "code",
      "source": [
        "!rm -r /content/dataset/dataset_updated/training_set\n",
        "!rm -r /content/dataset/dataset_updated/validation_set"
      ],
      "metadata": {
        "id": "L8IeQIMOcmqV"
      },
      "execution_count": 9,
      "outputs": []
    },
    {
      "cell_type": "markdown",
      "source": [
        "# **Data Cleaning**"
      ],
      "metadata": {
        "id": "l9NjganzCkKN"
      }
    },
    {
      "cell_type": "code",
      "source": [
        "import os"
      ],
      "metadata": {
        "id": "87Q0FgVZoFzF"
      },
      "execution_count": 10,
      "outputs": []
    },
    {
      "cell_type": "code",
      "source": [
        "IMAGES_PATH = \"/content/dataset/dataset_updated\""
      ],
      "metadata": {
        "id": "Fy4N0PNRXsy4"
      },
      "execution_count": 11,
      "outputs": []
    },
    {
      "cell_type": "code",
      "source": [
        "def get_files_number(path=IMAGES_PATH):\n",
        "  total = 0\n",
        "  for root,dirs,files in os.walk(path):\n",
        "    total+=len(files)\n",
        "  return total"
      ],
      "metadata": {
        "id": "iGPqqoYsW_kJ"
      },
      "execution_count": 12,
      "outputs": []
    },
    {
      "cell_type": "code",
      "source": [
        "#rimuoviamo le immagini corrotte\n",
        "from pathlib import Path\n",
        "import imghdr\n",
        "\n",
        "data_dir = IMAGES_PATH\n",
        "image_extensions = [\".png\", \".jpg\"]\n",
        "\n",
        "img_type_accepted_by_tf = [\"bmp\", \"gif\", \"jpeg\", \"png\"]\n",
        "for filepath in Path(data_dir).rglob(\"*\"):\n",
        "    if filepath.suffix.lower() in image_extensions:\n",
        "        img_type = imghdr.what(filepath)\n",
        "        if img_type is None:\n",
        "            print(f\"{filepath} is not an image\")\n",
        "            os.remove(filepath)\n",
        "        elif img_type not in img_type_accepted_by_tf:\n",
        "            print(f\"{filepath} is a {img_type}, not accepted by TensorFlow\")\n",
        "            os.remove(filepath)"
      ],
      "metadata": {
        "id": "86pWHQhpXDYc"
      },
      "execution_count": null,
      "outputs": []
    },
    {
      "cell_type": "code",
      "source": [
        "IMG_WIDTH = 256\n",
        "IMG_HEIGHT = 256\n",
        "STEPS_PER_EPOCH = 8\n",
        "BATCH_SIZE = 32"
      ],
      "metadata": {
        "id": "qWvqxmKodIdb"
      },
      "execution_count": 14,
      "outputs": []
    },
    {
      "cell_type": "code",
      "source": [
        "import tensorflow as tf\n",
        "from tensorflow.keras.preprocessing.image import ImageDataGenerator\n",
        "\n",
        "train_set = tf.keras.utils.image_dataset_from_directory(\n",
        "    IMAGES_PATH,\n",
        "    validation_split = 0.2,\n",
        "    subset = \"training\",\n",
        "    seed = 42,\n",
        "    image_size = (IMG_WIDTH,IMG_HEIGHT),\n",
        "    batch_size = 32\n",
        ")\n",
        "\n",
        "validation_set = tf.keras.utils.image_dataset_from_directory(\n",
        "    IMAGES_PATH,\n",
        "    validation_split = 0.2,\n",
        "    subset = \"validation\",\n",
        "    seed = 42,\n",
        "    image_size = (IMG_WIDTH,IMG_HEIGHT),\n",
        "    batch_size = 32\n",
        ")\n"
      ],
      "metadata": {
        "colab": {
          "base_uri": "https://localhost:8080/"
        },
        "id": "CBxgA5j5Pkmb",
        "outputId": "763d6408-e2ee-4dfe-a489-20716745dce3"
      },
      "execution_count": 15,
      "outputs": [
        {
          "output_type": "stream",
          "name": "stdout",
          "text": [
            "Found 8741 files belonging to 5 classes.\n",
            "Using 6993 files for training.\n",
            "Found 8741 files belonging to 5 classes.\n",
            "Using 1748 files for validation.\n"
          ]
        }
      ]
    },
    {
      "cell_type": "code",
      "source": [
        "num_classes = train_set.class_names"
      ],
      "metadata": {
        "id": "DTKAyXH_cycj"
      },
      "execution_count": 16,
      "outputs": []
    },
    {
      "cell_type": "code",
      "source": [
        "type(train_set)"
      ],
      "metadata": {
        "colab": {
          "base_uri": "https://localhost:8080/"
        },
        "id": "X6i-AYyK75YY",
        "outputId": "752eefee-f7a3-4455-b1e7-c7cb706e5d59"
      },
      "execution_count": 17,
      "outputs": [
        {
          "output_type": "execute_result",
          "data": {
            "text/plain": [
              "tensorflow.python.data.ops.dataset_ops.BatchDataset"
            ]
          },
          "metadata": {},
          "execution_count": 17
        }
      ]
    },
    {
      "cell_type": "code",
      "source": [
        "def split_dataset(dataset: tf.data.Dataset, validation_data_fraction: float):\n",
        "\n",
        "    validation_data_percent = round(validation_data_fraction * 100)\n",
        "    if not (0 <= validation_data_percent <= 100):\n",
        "        raise ValueError(\"validation data fraction must be ∈ [0,1]\")\n",
        "\n",
        "    dataset = dataset.enumerate() #supponendo validation_data_fraction = 0.3 \n",
        "    train_dataset = dataset.filter(lambda f, data: f % 100 > validation_data_percent) #ogni 100 elementi, prende gli ultimi 70\n",
        "    validation_dataset = dataset.filter(lambda f, data: f % 100 <= validation_data_percent) #ogni 100 elementi, prende i primi 30\n",
        "\n",
        "    # rimuoviamo enumerazione\n",
        "    train_dataset = train_dataset.map(lambda f, data: data)\n",
        "    validation_dataset = validation_dataset.map(lambda f, data: data)\n",
        "\n",
        "    return train_dataset, validation_dataset"
      ],
      "metadata": {
        "id": "_WUmt7qP8rZY"
      },
      "execution_count": 18,
      "outputs": []
    },
    {
      "cell_type": "code",
      "source": [
        "train_set,test_set = split_dataset(train_set,0.2)"
      ],
      "metadata": {
        "id": "-wknZLsIOeeE"
      },
      "execution_count": 19,
      "outputs": []
    },
    {
      "cell_type": "code",
      "source": [
        "AUTOTUNE = tf.data.AUTOTUNE\n",
        "\n",
        "train_set = train_set.cache().shuffle(1000).prefetch(buffer_size = AUTOTUNE)\n",
        "validation_set = validation_set.cache().prefetch(buffer_size=AUTOTUNE)\n",
        "test_set = test_set.cache().prefetch(buffer_size=AUTOTUNE)"
      ],
      "metadata": {
        "id": "tf5MMmtZbci4"
      },
      "execution_count": 20,
      "outputs": []
    },
    {
      "cell_type": "markdown",
      "source": [
        "# **Training and Testing**"
      ],
      "metadata": {
        "id": "T8IK2eaZGa-N"
      }
    },
    {
      "cell_type": "code",
      "source": [
        "model = tf.keras.Sequential([\n",
        "  tf.keras.layers.Rescaling(1./255,input_shape = [IMG_HEIGHT,IMG_WIDTH,3]),\n",
        "  tf.keras.layers.Conv2D(64, 3, activation='relu'),\n",
        "  tf.keras.layers.MaxPooling2D(),\n",
        "  tf.keras.layers.Dropout(0.4),\n",
        "  tf.keras.layers.Conv2D(64, 3, activation='relu'),\n",
        "  tf.keras.layers.MaxPooling2D(),\n",
        "  tf.keras.layers.Dropout(0.4),\n",
        "  tf.keras.layers.Conv2D(64, 3, activation='relu'),\n",
        "  tf.keras.layers.MaxPooling2D(),\n",
        "  tf.keras.layers.Dropout(0.4),\n",
        "  tf.keras.layers.Flatten(),\n",
        "  tf.keras.layers.Dense(128, activation='relu'),\n",
        "  tf.keras.layers.Dropout(0.4),\n",
        "  tf.keras.layers.Dense(len(num_classes))\n",
        "])"
      ],
      "metadata": {
        "id": "c67HxAD-GdPy"
      },
      "execution_count": 30,
      "outputs": []
    },
    {
      "cell_type": "code",
      "source": [
        "model.summary()"
      ],
      "metadata": {
        "colab": {
          "base_uri": "https://localhost:8080/"
        },
        "id": "2HjKmU82JwM9",
        "outputId": "a6990baa-b1f5-429e-a816-011e7b4b3b4c"
      },
      "execution_count": 31,
      "outputs": [
        {
          "output_type": "stream",
          "name": "stdout",
          "text": [
            "Model: \"sequential\"\n",
            "_________________________________________________________________\n",
            " Layer (type)                Output Shape              Param #   \n",
            "=================================================================\n",
            " rescaling (Rescaling)       (None, 256, 256, 3)       0         \n",
            "                                                                 \n",
            " conv2d (Conv2D)             (None, 254, 254, 64)      1792      \n",
            "                                                                 \n",
            " max_pooling2d (MaxPooling2D  (None, 127, 127, 64)     0         \n",
            " )                                                               \n",
            "                                                                 \n",
            " dropout (Dropout)           (None, 127, 127, 64)      0         \n",
            "                                                                 \n",
            " conv2d_1 (Conv2D)           (None, 125, 125, 64)      36928     \n",
            "                                                                 \n",
            " max_pooling2d_1 (MaxPooling  (None, 62, 62, 64)       0         \n",
            " 2D)                                                             \n",
            "                                                                 \n",
            " dropout_1 (Dropout)         (None, 62, 62, 64)        0         \n",
            "                                                                 \n",
            " conv2d_2 (Conv2D)           (None, 60, 60, 64)        36928     \n",
            "                                                                 \n",
            " max_pooling2d_2 (MaxPooling  (None, 30, 30, 64)       0         \n",
            " 2D)                                                             \n",
            "                                                                 \n",
            " dropout_2 (Dropout)         (None, 30, 30, 64)        0         \n",
            "                                                                 \n",
            " flatten (Flatten)           (None, 57600)             0         \n",
            "                                                                 \n",
            " dense (Dense)               (None, 128)               7372928   \n",
            "                                                                 \n",
            " dropout_3 (Dropout)         (None, 128)               0         \n",
            "                                                                 \n",
            " dropout_4 (Dropout)         (None, 128)               0         \n",
            "                                                                 \n",
            " dense_1 (Dense)             (None, 5)                 645       \n",
            "                                                                 \n",
            "=================================================================\n",
            "Total params: 7,449,221\n",
            "Trainable params: 7,449,221\n",
            "Non-trainable params: 0\n",
            "_________________________________________________________________\n"
          ]
        }
      ]
    },
    {
      "cell_type": "code",
      "source": [
        "model.compile(optimizer=tf.keras.optimizers.Adam(),loss=tf.keras.losses.SparseCategoricalCrossentropy(from_logits=True),metrics=[\"accuracy\"])"
      ],
      "metadata": {
        "id": "Bg3KgilJIBUE"
      },
      "execution_count": 22,
      "outputs": []
    },
    {
      "cell_type": "code",
      "source": [
        "def learning_rate_exponential(epoch):\n",
        "  return 0.1*0.1**(epoch/20)\n",
        "\n",
        "lr_scheduler = tf.keras.callbacks.ReduceLROnPlateau(factor=0.25,patience=5)"
      ],
      "metadata": {
        "id": "oTmeTc47Jtp1"
      },
      "execution_count": 23,
      "outputs": []
    },
    {
      "cell_type": "code",
      "source": [
        "earlystopping = tf.keras.callbacks.EarlyStopping(monitor=\"val_accuracy\",patience=20,verbose=1)"
      ],
      "metadata": {
        "id": "2fjqvaViKDHb"
      },
      "execution_count": 24,
      "outputs": []
    },
    {
      "cell_type": "code",
      "source": [
        "history = model.fit(train_set,epochs=35,validation_data=(validation_set),callbacks=[lr_scheduler])"
      ],
      "metadata": {
        "id": "XRTDzbcaIMMV"
      },
      "execution_count": null,
      "outputs": []
    },
    {
      "cell_type": "code",
      "source": [
        "prediction = model.evaluate(test_set)"
      ],
      "metadata": {
        "colab": {
          "base_uri": "https://localhost:8080/"
        },
        "id": "ZdklcfsJ4SFD",
        "outputId": "f300acb0-443e-4379-9d0d-42884144a39a"
      },
      "execution_count": 29,
      "outputs": [
        {
          "output_type": "stream",
          "name": "stdout",
          "text": [
            "61/61 [==============================] - 5s 76ms/step - loss: 0.5843 - accuracy: 0.8575\n"
          ]
        }
      ]
    },
    {
      "cell_type": "code",
      "source": [
        "import numpy as np\n",
        "\n",
        "y_pred = []\n",
        "y_true = []\n",
        "\n",
        "for image_batch, label_batch in test_set:\n",
        "   y_true.append(label_batch)\n",
        "   preds = model.predict(image_batch)\n",
        "   y_pred.append(np.argmax(preds, axis = - 1))\n",
        "\n",
        "correct_labels = tf.concat([item for item in y_true], axis = 0)\n",
        "predicted_labels = tf.concat([item for item in y_pred], axis = 0)"
      ],
      "metadata": {
        "id": "6t7iCIZP6dit"
      },
      "execution_count": 21,
      "outputs": []
    },
    {
      "cell_type": "code",
      "source": [
        "confusion_matrix = tf.math.confusion_matrix(correct_labels,predicted_labels)"
      ],
      "metadata": {
        "id": "QdmuItt952YU"
      },
      "execution_count": 34,
      "outputs": []
    },
    {
      "cell_type": "code",
      "source": [
        "confusion_matrix"
      ],
      "metadata": {
        "colab": {
          "base_uri": "https://localhost:8080/"
        },
        "id": "zbEbelSs606_",
        "outputId": "3dd8e7cc-d38c-42b1-b4d1-3964e3836170"
      },
      "execution_count": 35,
      "outputs": [
        {
          "output_type": "execute_result",
          "data": {
            "text/plain": [
              "<tf.Tensor: shape=(5, 5), dtype=int32, numpy=\n",
              "array([[180,  43,  15,  14,  38],\n",
              "       [ 41, 143,   6,   2,  11],\n",
              "       [  8,   2, 480,   5,  10],\n",
              "       [  7,   0,  18, 464,  17],\n",
              "       [ 17,   3,  10,   9, 394]], dtype=int32)>"
            ]
          },
          "metadata": {},
          "execution_count": 35
        }
      ]
    },
    {
      "cell_type": "code",
      "source": [
        "import seaborn as sns \n",
        "import pandas as pd \n",
        "from matplotlib import pyplot as plt\n",
        "\n",
        "cm = pd.DataFrame(confusion_matrix.numpy(), # use .numpy(), because now confusion is tensor\n",
        "               range(5),range(5))\n",
        "\n",
        "plt.figure(figsize = (10,10))\n",
        "sns.heatmap(cm, annot=True, annot_kws={\"size\": 12})\n",
        "plt.show()"
      ],
      "metadata": {
        "colab": {
          "base_uri": "https://localhost:8080/",
          "height": 592
        },
        "id": "pRafJUzw7C9A",
        "outputId": "bbc1dea4-99f7-498d-fa00-e13d78869a77"
      },
      "execution_count": 39,
      "outputs": [
        {
          "output_type": "display_data",
          "data": {
            "text/plain": [
              "<Figure size 720x720 with 2 Axes>"
            ],
            "image/png": "[encoded data removed]"
          },
          "metadata": {
            "needs_background": "light"
          }
        }
      ]
    }
  ],
  "metadata": {
    "jupytext": {
      "split_at_heading": true
    },
    "kernelspec": {
      "display_name": "Python 3",
      "language": "python",
      "name": "python3"
    },
    "colab": {
      "name": "Paintings Classifier.ipynb",
      "provenance": [],
      "collapsed_sections": []
    }
  },
  "nbformat": 4,
  "nbformat_minor": 0
}